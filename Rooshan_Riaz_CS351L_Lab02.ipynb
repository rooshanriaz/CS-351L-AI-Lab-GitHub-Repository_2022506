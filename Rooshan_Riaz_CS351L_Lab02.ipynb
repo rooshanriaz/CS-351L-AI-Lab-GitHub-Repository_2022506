{
  "nbformat": 4,
  "nbformat_minor": 0,
  "metadata": {
    "colab": {
      "provenance": [],
      "authorship_tag": "ABX9TyMamhsh/iqHsFoJ8Tj8C499",
      "include_colab_link": true
    },
    "kernelspec": {
      "name": "python3",
      "display_name": "Python 3"
    },
    "language_info": {
      "name": "python"
    }
  },
  "cells": [
    {
      "cell_type": "markdown",
      "metadata": {
        "id": "view-in-github",
        "colab_type": "text"
      },
      "source": [
        "<a href=\"https://colab.research.google.com/github/rooshanriaz/CS-351L-AI-Lab-GitHub-Repository_2022506/blob/main/Rooshan_Riaz_CS351L_Lab02.ipynb\" target=\"_parent\"><img src=\"https://colab.research.google.com/assets/colab-badge.svg\" alt=\"Open In Colab\"/></a>"
      ]
    },
    {
      "cell_type": "markdown",
      "source": [
        "# **Lab 2: Introduction to Search in AI**\n",
        "\n",
        "**Name: Rooshan Riaz**\n",
        "\n",
        "**Reg No: 2022506**\n",
        "\n",
        "## **Lab Task: Implementation of A* Algorithm on 2048 Game**\n",
        "\n",
        "Each state in the 2048 game is the current configuration of the grid (a 4x4 matrix) where each tile has a value (powers of 2). In 2048, the usual goal is to create a tile with the value 2048. For generality, we can modify this goal to be maximizing the score or creating as large a tile as possible before the game is over.\n",
        "\n",
        "In each state, the possible actions are the four directional moves: up, down, left, right. Each action shifts the tiles in that direction, merges them if applicable, and generates a new tile. The key part of the A* algorithm is the heuristic function\n",
        "ℎ\n",
        "(\n",
        "𝑛\n",
        ")\n",
        "h(n) that estimates the cost from the current state to the goal."
      ],
      "metadata": {
        "id": "6D5doI2OcE75"
      }
    }
  ]
}